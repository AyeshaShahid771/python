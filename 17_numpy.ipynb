{
 "cells": [
  {
   "cell_type": "code",
   "execution_count": null,
   "metadata": {},
   "outputs": [],
   "source": [
    "## Numpy\n",
    "#### It stores the data of single datatype"
   ]
  },
  {
   "cell_type": "code",
   "execution_count": 3,
   "metadata": {},
   "outputs": [],
   "source": [
    "import numpy as np \n",
    "import pandas as pd \n"
   ]
  },
  {
   "cell_type": "code",
   "execution_count": 4,
   "metadata": {},
   "outputs": [],
   "source": [
    "list : int = [1,2,3,4,\"apples\"]"
   ]
  },
  {
   "cell_type": "code",
   "execution_count": 6,
   "metadata": {},
   "outputs": [
    {
     "data": {
      "text/plain": [
       "array(['1', '2', '3', '4', 'apples'], dtype='<U11')"
      ]
     },
     "execution_count": 6,
     "metadata": {},
     "output_type": "execute_result"
    }
   ],
   "source": [
    "arr = np.array(list)\n",
    "arr"
   ]
  },
  {
   "cell_type": "code",
   "execution_count": 9,
   "metadata": {},
   "outputs": [
    {
     "name": "stdout",
     "output_type": "stream",
     "text": [
      "int8\n"
     ]
    },
    {
     "name": "stderr",
     "output_type": "stream",
     "text": [
      "C:\\Users\\Ayesha Shahid\\AppData\\Local\\Temp\\ipykernel_5124\\2443617359.py:1: DeprecationWarning: NumPy will stop allowing conversion of out-of-bound Python integers to integer arrays.  The conversion of 300 to int8 will fail in the future.\n",
      "For the old behavior, usually:\n",
      "    np.array(value).astype(dtype)\n",
      "will give the desired result (the cast overflows).\n",
      "  num = np.array([10,20,300,40],dtype = \"int8\")\n"
     ]
    }
   ],
   "source": [
    "num = np.array([10,20,300,40],dtype = \"int8\") ## in appropriate datatypes\n",
    "print(num.dtype)"
   ]
  },
  {
   "cell_type": "code",
   "execution_count": 10,
   "metadata": {},
   "outputs": [],
   "source": [
    "num1 = [ [1,2,3],[[1,2,3], [1,5,6]]]\n"
   ]
  },
  {
   "cell_type": "code",
   "execution_count": 12,
   "metadata": {},
   "outputs": [
    {
     "ename": "ValueError",
     "evalue": "setting an array element with a sequence. The requested array has an inhomogeneous shape after 1 dimensions. The detected shape was (2,) + inhomogeneous part.",
     "output_type": "error",
     "traceback": [
      "\u001b[1;31m---------------------------------------------------------------------------\u001b[0m",
      "\u001b[1;31mValueError\u001b[0m                                Traceback (most recent call last)",
      "Cell \u001b[1;32mIn[12], line 2\u001b[0m\n\u001b[0;32m      1\u001b[0m num1 \u001b[38;5;241m=\u001b[39m [ [\u001b[38;5;241m1\u001b[39m,\u001b[38;5;241m2\u001b[39m,\u001b[38;5;241m3\u001b[39m],[[\u001b[38;5;241m1\u001b[39m,\u001b[38;5;241m2\u001b[39m,\u001b[38;5;241m3\u001b[39m], [\u001b[38;5;241m1\u001b[39m,\u001b[38;5;241m5\u001b[39m,\u001b[38;5;241m6\u001b[39m]]]\n\u001b[1;32m----> 2\u001b[0m arr2\u001b[38;5;241m=\u001b[39m \u001b[43mnp\u001b[49m\u001b[38;5;241;43m.\u001b[39;49m\u001b[43marray\u001b[49m\u001b[43m(\u001b[49m\u001b[43mnum1\u001b[49m\u001b[43m)\u001b[49m\n",
      "\u001b[1;31mValueError\u001b[0m: setting an array element with a sequence. The requested array has an inhomogeneous shape after 1 dimensions. The detected shape was (2,) + inhomogeneous part."
     ]
    }
   ],
   "source": [
    "num1 = [ [1,2,3],[[1,2,3], [1,5,6]]]\n",
    "arr2= np.array(num1)"
   ]
  },
  {
   "cell_type": "code",
   "execution_count": 17,
   "metadata": {},
   "outputs": [
    {
     "name": "stdout",
     "output_type": "stream",
     "text": [
      "Collecting nptyping\n",
      "  Downloading nptyping-2.5.0-py3-none-any.whl.metadata (7.6 kB)\n",
      "Requirement already satisfied: numpy<2.0.0,>=1.20.0 in f:\\anaconda\\envs\\python_ml\\lib\\site-packages (from nptyping) (1.26.4)\n",
      "Downloading nptyping-2.5.0-py3-none-any.whl (37 kB)\n",
      "Installing collected packages: nptyping\n",
      "Successfully installed nptyping-2.5.0\n"
     ]
    }
   ],
   "source": [
    "! pip install nptyping"
   ]
  },
  {
   "cell_type": "code",
   "execution_count": 19,
   "metadata": {},
   "outputs": [
    {
     "name": "stdout",
     "output_type": "stream",
     "text": [
      "[ 1  2  3  4  5  6  7  8  9 10]\n"
     ]
    },
    {
     "name": "stderr",
     "output_type": "stream",
     "text": [
      "ERROR: Could not find a version that satisfies the requirement ntyping (from versions: none)\n",
      "ERROR: No matching distribution found for ntyping\n"
     ]
    }
   ],
   "source": [
    "# Install ntyping if not already installed\n",
    "!pip install ntyping\n",
    "\n",
    "import numpy as np\n",
    "from nptyping import NDArray, Shape, Int\n",
    "\n",
    "# Correctly define arr1 with 10 elements\n",
    "arr1: NDArray[Shape[\"10\"], Int] = np.array([1, 2, 3, 4, 5, 6, 7, 8, 9, 10])\n",
    "\n",
    "# Optionally print to verify\n",
    "print(arr1)\n"
   ]
  },
  {
   "cell_type": "code",
   "execution_count": 27,
   "metadata": {},
   "outputs": [
    {
     "name": "stdout",
     "output_type": "stream",
     "text": [
      "(4,)\n",
      "(4, 4)\n"
     ]
    }
   ],
   "source": [
    "import numpy as np\n",
    "\n",
    "arr1 = [1, 2, 34, 3]\n",
    "arr2 = [[1, 2, 34, 4], [4, 5, 6, 7], [3, 5, 7, 0], [3, 5, 8, 0]]  # Added zeros to make lengths consistent\n",
    "\n",
    "# Convert lists to NumPy arrays\n",
    "arr1_np = np.array(arr1)\n",
    "arr2_np = np.array(arr2)\n",
    "\n",
    "# Print the shapes without parentheses\n",
    "print(arr1_np.shape)  # Output: (4,)\n",
    "print(arr2_np.shape)  # Output: (4, 4)\n"
   ]
  },
  {
   "cell_type": "code",
   "execution_count": 28,
   "metadata": {},
   "outputs": [
    {
     "name": "stdout",
     "output_type": "stream",
     "text": [
      "[120 197 308  18]\n"
     ]
    }
   ],
   "source": [
    "print(np.matmul(arr1,arr2))"
   ]
  },
  {
   "cell_type": "code",
   "execution_count": null,
   "metadata": {},
   "outputs": [],
   "source": [
    "import pandas as pd\n",
    "# data format  series(One dimenstional data) , dataframe\n",
    "\n"
   ]
  },
  {
   "cell_type": "code",
   "execution_count": 31,
   "metadata": {},
   "outputs": [
    {
     "name": "stdout",
     "output_type": "stream",
     "text": [
      "['apple', 'Banana', 'orange']\n"
     ]
    }
   ],
   "source": [
    "fruits : list = [\"apple\", \"Banana\",\"orange\"]\n",
    "print(fruits)"
   ]
  },
  {
   "cell_type": "code",
   "execution_count": 35,
   "metadata": {},
   "outputs": [],
   "source": [
    "from pandas import Series"
   ]
  },
  {
   "cell_type": "code",
   "execution_count": 37,
   "metadata": {},
   "outputs": [],
   "source": [
    " fruits_series: Series = pd.Series(fruits,index= [\"A\",\"B\",\"C\"])"
   ]
  },
  {
   "cell_type": "code",
   "execution_count": 38,
   "metadata": {},
   "outputs": [
    {
     "name": "stdout",
     "output_type": "stream",
     "text": [
      "A     apple\n",
      "B    Banana\n",
      "C    orange\n",
      "dtype: object\n"
     ]
    }
   ],
   "source": [
    "print(fruits_series)"
   ]
  },
  {
   "cell_type": "code",
   "execution_count": null,
   "metadata": {},
   "outputs": [],
   "source": []
  }
 ],
 "metadata": {
  "kernelspec": {
   "display_name": "Python 3",
   "language": "python",
   "name": "python3"
  },
  "language_info": {
   "codemirror_mode": {
    "name": "ipython",
    "version": 3
   },
   "file_extension": ".py",
   "mimetype": "text/x-python",
   "name": "python",
   "nbconvert_exporter": "python",
   "pygments_lexer": "ipython3",
   "version": "3.11.9"
  }
 },
 "nbformat": 4,
 "nbformat_minor": 2
}
