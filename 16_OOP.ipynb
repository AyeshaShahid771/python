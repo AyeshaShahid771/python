{
 "cells": [
  {
   "cell_type": "code",
   "execution_count": 1,
   "metadata": {},
   "outputs": [
    {
     "name": "stdout",
     "output_type": "stream",
     "text": [
      "hy\n"
     ]
    }
   ],
   "source": [
    "print(\"hy\")"
   ]
  },
  {
   "cell_type": "code",
   "execution_count": null,
   "metadata": {},
   "outputs": [],
   "source": [
    "# Four Pillars of OOPs \n",
    "#Encapsulation \n",
    "#Abstraction  # \n",
    "#Inheritance\n",
    "#Polymorphism"
   ]
  },
  {
   "cell_type": "markdown",
   "metadata": {},
   "source": [
    "#### always use keyword class to define class\n",
    "#### always start the name of class with the capital letter\n",
    "# \n",
    "#### by default access modifier in C++ is private in python it is public \n",
    "### Overloading : same name but different parameters\n",
    "### Overriding : In the process of method overriding, all the functions or methods must possess the very same name along with similar signature"
   ]
  },
  {
   "cell_type": "code",
   "execution_count": 11,
   "metadata": {},
   "outputs": [
    {
     "name": "stdout",
     "output_type": "stream",
     "text": [
      "ayesha shahid\n"
     ]
    }
   ],
   "source": [
    "class Human:\n",
    "    Batch = 62  # global variable\n",
    "    def __init__(self,firstname,lastname):\n",
    "        self.firstname = firstname\n",
    "        self.lastname = lastname  # self.lastname = attribute , lastname = local variable\n",
    "\n",
    "    def print_name(self):\n",
    "        print(self.firstname, self.lastname)\n",
    "\n",
    "# Create an instance of the Human class\n",
    "human_instance = Human(\"ayesha\",\"shahid\")\n",
    "# Call the print_name method\n",
    "human_instance.print_name()\n",
    "   "
   ]
  },
  {
   "cell_type": "markdown",
   "metadata": {},
   "source": [
    "## Class"
   ]
  },
  {
   "cell_type": "code",
   "execution_count": 32,
   "metadata": {},
   "outputs": [
    {
     "name": "stdout",
     "output_type": "stream",
     "text": [
      "I am talking\n"
     ]
    }
   ],
   "source": [
    "class Person:\n",
    "    def __init__(self, name, height):  ## Dunder method or constructor method\n",
    "        self.name = name\n",
    "        self.height = height\n",
    "\n",
    "    def walk(self):\n",
    "        print(\"I am walking\")\n",
    "\n",
    "    def talk(self):\n",
    "        print(\"I am talking\")\n",
    "\n",
    "    def eating(self):\n",
    "        print(\"I am eating\")\n",
    "\n",
    "# Creating an instance of the Person class\n",
    "person1 = Person(\"Ayesha\", \"5.6\")\n",
    "\n",
    "# Calling the talk method\n",
    "person1.talk()  # Outputs: I am talking\n"
   ]
  },
  {
   "cell_type": "code",
   "execution_count": 36,
   "metadata": {},
   "outputs": [
    {
     "name": "stdout",
     "output_type": "stream",
     "text": [
      "I am eating\n"
     ]
    }
   ],
   "source": [
    "person2 = Person(\"ali\",\"6.1\")\n",
    "person2.eating()"
   ]
  },
  {
   "cell_type": "code",
   "execution_count": 37,
   "metadata": {},
   "outputs": [
    {
     "data": {
      "text/plain": [
       "'ali'"
      ]
     },
     "execution_count": 37,
     "metadata": {},
     "output_type": "execute_result"
    }
   ],
   "source": [
    "person2.name"
   ]
  },
  {
   "cell_type": "code",
   "execution_count": 38,
   "metadata": {},
   "outputs": [
    {
     "data": {
      "text/plain": [
       "'6.1'"
      ]
     },
     "execution_count": 38,
     "metadata": {},
     "output_type": "execute_result"
    }
   ],
   "source": [
    "person2.height"
   ]
  },
  {
   "cell_type": "code",
   "execution_count": null,
   "metadata": {},
   "outputs": [],
   "source": [
    "# from abc import ABC, abstractmethod\n",
    "\n",
    "\n",
    "\n"
   ]
  },
  {
   "cell_type": "markdown",
   "metadata": {},
   "source": [
    "### Inheritance"
   ]
  },
  {
   "cell_type": "code",
   "execution_count": 72,
   "metadata": {},
   "outputs": [],
   "source": [
    "## inheritance\n",
    "\n",
    "class Person():\n",
    "    def __init__(self,name,age,gender) -> None:\n",
    "        self.name = name\n",
    "        self.__age = age  # private\n",
    "        self._gender = gender\n",
    "        \n",
    "        \n",
    "    def walk(self):\n",
    "        print(\"he is walking  \") \n",
    "\n",
    "\n",
    "class student(Person) :\n",
    "    def play(self) :\n",
    "        print(\"Student is Playing\")      "
   ]
  },
  {
   "cell_type": "code",
   "execution_count": 69,
   "metadata": {},
   "outputs": [],
   "source": [
    "student1 = student(\"ayesha\",\"19\",\"Female\")"
   ]
  },
  {
   "cell_type": "code",
   "execution_count": 70,
   "metadata": {},
   "outputs": [
    {
     "data": {
      "text/plain": [
       "'ayesha'"
      ]
     },
     "execution_count": 70,
     "metadata": {},
     "output_type": "execute_result"
    }
   ],
   "source": [
    "student1.name"
   ]
  },
  {
   "cell_type": "code",
   "execution_count": 71,
   "metadata": {},
   "outputs": [
    {
     "ename": "AttributeError",
     "evalue": "'student' object has no attribute 'age'",
     "output_type": "error",
     "traceback": [
      "\u001b[1;31m---------------------------------------------------------------------------\u001b[0m",
      "\u001b[1;31mAttributeError\u001b[0m                            Traceback (most recent call last)",
      "Cell \u001b[1;32mIn[71], line 1\u001b[0m\n\u001b[1;32m----> 1\u001b[0m \u001b[43mstudent1\u001b[49m\u001b[38;5;241;43m.\u001b[39;49m\u001b[43mage\u001b[49m\n",
      "\u001b[1;31mAttributeError\u001b[0m: 'student' object has no attribute 'age'"
     ]
    }
   ],
   "source": [
    "student1.age"
   ]
  },
  {
   "cell_type": "code",
   "execution_count": 73,
   "metadata": {},
   "outputs": [
    {
     "data": {
      "text/plain": [
       "'Female'"
      ]
     },
     "execution_count": 73,
     "metadata": {},
     "output_type": "execute_result"
    }
   ],
   "source": [
    "student1.gender"
   ]
  },
  {
   "cell_type": "code",
   "execution_count": 55,
   "metadata": {},
   "outputs": [
    {
     "name": "stdout",
     "output_type": "stream",
     "text": [
      "Student is Playing\n"
     ]
    }
   ],
   "source": [
    "student1.play()"
   ]
  },
  {
   "cell_type": "markdown",
   "metadata": {},
   "source": [
    "### Polymorphism"
   ]
  },
  {
   "cell_type": "code",
   "execution_count": 65,
   "metadata": {},
   "outputs": [],
   "source": [
    "### polymorphism\n",
    "\n",
    "class Animal():\n",
    "    def eat(self):\n",
    "      print(\"Animal is eating\")\n",
    "\n",
    "\n",
    "class Mammal(Animal):\n",
    "    def eat(self):\n",
    "      print(\"Mammal is eating\") \n",
    "\n",
    "\n",
    "class Dog(Animal):\n",
    "    def sleep(self):\n",
    "       \n",
    "                   \n",
    "\n",
    "class Bird(Animal):\n",
    "    def eat(self):\n",
    "      print(\"Bird is eating\")          \n"
   ]
  },
  {
   "cell_type": "code",
   "execution_count": 67,
   "metadata": {},
   "outputs": [
    {
     "name": "stdout",
     "output_type": "stream",
     "text": [
      "Bird is eating\n"
     ]
    }
   ],
   "source": [
    "Jacky = Bird()\n",
    "Jacky.eat()"
   ]
  },
  {
   "cell_type": "code",
   "execution_count": 1,
   "metadata": {},
   "outputs": [],
   "source": [
    "class Animal:\n",
    "    def sound(self):\n",
    "        print(\"I am a animal\")\n",
    "\n",
    "\n",
    "class Dog(Animal):\n",
    "    def __init__(self,breed):\n",
    "        self.breed = breed\n",
    "    def sound(self,breed):\n",
    "        print(f\"i am a dog of {breed}\")\n",
    "\n",
    "\n"
   ]
  },
  {
   "cell_type": "code",
   "execution_count": 4,
   "metadata": {},
   "outputs": [
    {
     "name": "stdout",
     "output_type": "stream",
     "text": [
      "i am a dog of german Sheepherd\n"
     ]
    }
   ],
   "source": [
    "goffy = Dog(\"german shepherd\")\n",
    "goffy.sound(\"german Sheepherd\")"
   ]
  },
  {
   "cell_type": "code",
   "execution_count": 16,
   "metadata": {},
   "outputs": [],
   "source": [
    "\n",
    "class shape():\n",
    "    def area(self):\n",
    "       a= print(\" My area is none\")\n",
    "       return a\n",
    "\n",
    "\n",
    "class Triangle(shape):\n",
    "     def area(self):\n",
    "      parent_area = super().area()\n",
    "      return parent_area\n",
    "\n"
   ]
  },
  {
   "cell_type": "code",
   "execution_count": 17,
   "metadata": {},
   "outputs": [
    {
     "name": "stdout",
     "output_type": "stream",
     "text": [
      " My area is none\n"
     ]
    }
   ],
   "source": [
    "t1=Triangle()\n",
    "t1.area()"
   ]
  },
  {
   "cell_type": "code",
   "execution_count": 18,
   "metadata": {},
   "outputs": [],
   "source": [
    "class Parent:\n",
    "    def __init__(self):\n",
    "        name = \"ayesha\"\n",
    "\n",
    "        \n"
   ]
  },
  {
   "cell_type": "code",
   "execution_count": 19,
   "metadata": {},
   "outputs": [],
   "source": [
    "P1 = Parent()"
   ]
  },
  {
   "cell_type": "code",
   "execution_count": 22,
   "metadata": {},
   "outputs": [],
   "source": [
    "class Parent ():\n",
    "    def __init__(self):\n",
    "        self.name = \"Ayesha\"\n",
    "        self.age = \"19\"\n",
    "\n",
    "\n",
    "\n"
   ]
  },
  {
   "cell_type": "code",
   "execution_count": 23,
   "metadata": {},
   "outputs": [],
   "source": [
    "P1 = Parent()"
   ]
  },
  {
   "cell_type": "code",
   "execution_count": 25,
   "metadata": {},
   "outputs": [
    {
     "data": {
      "text/plain": [
       "'19'"
      ]
     },
     "execution_count": 25,
     "metadata": {},
     "output_type": "execute_result"
    }
   ],
   "source": [
    "P1.age"
   ]
  },
  {
   "cell_type": "code",
   "execution_count": null,
   "metadata": {},
   "outputs": [],
   "source": []
  }
 ],
 "metadata": {
  "kernelspec": {
   "display_name": "Python 3",
   "language": "python",
   "name": "python3"
  },
  "language_info": {
   "codemirror_mode": {
    "name": "ipython",
    "version": 3
   },
   "file_extension": ".py",
   "mimetype": "text/x-python",
   "name": "python",
   "nbconvert_exporter": "python",
   "pygments_lexer": "ipython3",
   "version": "3.12.3"
  }
 },
 "nbformat": 4,
 "nbformat_minor": 2
}
