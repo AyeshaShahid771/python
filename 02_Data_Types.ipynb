{
 "cells": [
  {
   "cell_type": "markdown",
   "metadata": {},
   "source": [
    "## Data Types\n",
    "- There are total 9 datatypes :\n",
    "\n",
    "- Integers (int): Whole numbers, both positive and negative, without a decimal point. Example: 5, -3.\n",
    "\n",
    "- Floating-point numbers (float): Numbers that contain a decimal point. Example: 3.14, -0.001.\n",
    "\n",
    "- Strings (str): Sequences of characters enclosed in quotes. Example: \"Hello, World!\", 'Python'.\n",
    "\n",
    "- Booleans (bool): Represents truth values with two possible values: True and False.\n",
    "\n",
    "- Lists (list): Ordered, mutable collections of items, which can be of different data types. Example: [1, 2, 3], [\"apple\", \"banana\"].\n",
    "\n",
    "- Tuples (tuple): Ordered, immutable collections of items. Example: (1, 2, 3), (\"apple\", \"banana\").\n",
    "\n",
    "- Sets (set): Unordered collections of unique items. Example: {1, 2, 3}, {\"apple\", \"banana\"}.\n",
    "\n",
    "- Dictionaries (dict): Collections of key-value pairs. Example: {\"name\": \"Alice\", \"age\": 30}.\n",
    "\n",
    "- Complex numbers (complex): Numbers that have a real part and an imaginary part, represented as a + bj, where a is the real part and b is the imaginary part. Example: 3 + 4j."
   ]
  },
  {
   "cell_type": "code",
   "execution_count": 2,
   "metadata": {},
   "outputs": [
    {
     "name": "stdout",
     "output_type": "stream",
     "text": [
      "5\n"
     ]
    },
    {
     "data": {
      "text/plain": [
       "int"
      ]
     },
     "execution_count": 2,
     "metadata": {},
     "output_type": "execute_result"
    }
   ],
   "source": [
    "# Integer\n",
    "int = 5\n",
    "print(int)\n",
    "type(int)"
   ]
  },
  {
   "cell_type": "code",
   "execution_count": 3,
   "metadata": {},
   "outputs": [
    {
     "name": "stdout",
     "output_type": "stream",
     "text": [
      "3.14 <class 'float'>\n"
     ]
    }
   ],
   "source": [
    "# Float\n",
    "float_value = 3.14\n",
    "print(float_value, type(float_value))"
   ]
  },
  {
   "cell_type": "code",
   "execution_count": 4,
   "metadata": {},
   "outputs": [
    {
     "name": "stdout",
     "output_type": "stream",
     "text": [
      "Hello, World! <class 'str'>\n"
     ]
    }
   ],
   "source": [
    "# String\n",
    "string_value = \"Hello, World!\"\n",
    "print(string_value, type(string_value))"
   ]
  },
  {
   "cell_type": "code",
   "execution_count": 5,
   "metadata": {},
   "outputs": [
    {
     "name": "stdout",
     "output_type": "stream",
     "text": [
      "True <class 'bool'>\n"
     ]
    }
   ],
   "source": [
    "# Boolean\n",
    "boolean_value = True\n",
    "print(boolean_value, type(boolean_value))"
   ]
  },
  {
   "cell_type": "code",
   "execution_count": 7,
   "metadata": {},
   "outputs": [
    {
     "name": "stdout",
     "output_type": "stream",
     "text": [
      "[1, 2, 3, 'apple'] <class 'list'>\n"
     ]
    }
   ],
   "source": [
    "# List\n",
    "list_value = [1, 2, 3, \"apple\"]\n",
    "print(list_value, type(list_value))"
   ]
  },
  {
   "cell_type": "code",
   "execution_count": 6,
   "metadata": {},
   "outputs": [
    {
     "name": "stdout",
     "output_type": "stream",
     "text": [
      "(1, 2, 3, 'banana') <class 'tuple'>\n"
     ]
    }
   ],
   "source": [
    "# Tuple\n",
    "tuple_value = (1, 2, 3, \"banana\")\n",
    "print(tuple_value, type(tuple_value))"
   ]
  },
  {
   "cell_type": "code",
   "execution_count": 8,
   "metadata": {},
   "outputs": [
    {
     "name": "stdout",
     "output_type": "stream",
     "text": [
      "{1, 2, 3, 'orange'} <class 'set'>\n"
     ]
    }
   ],
   "source": [
    "# Set\n",
    "set_value = {1, 2, 3, \"orange\"}\n",
    "print(set_value, type(set_value))"
   ]
  },
  {
   "cell_type": "code",
   "execution_count": 9,
   "metadata": {},
   "outputs": [
    {
     "name": "stdout",
     "output_type": "stream",
     "text": [
      "{'name': 'Alice', 'age': 30} <class 'dict'>\n"
     ]
    }
   ],
   "source": [
    "# Dictionary\n",
    "dict_value = {\"name\": \"Alice\", \"age\": 30}\n",
    "print(dict_value, type(dict_value))"
   ]
  },
  {
   "cell_type": "code",
   "execution_count": 10,
   "metadata": {},
   "outputs": [
    {
     "name": "stdout",
     "output_type": "stream",
     "text": [
      "(3+4j) <class 'complex'>\n"
     ]
    }
   ],
   "source": [
    "# Complex\n",
    "complex_value = 3 + 4j\n",
    "print(complex_value, type(complex_value))"
   ]
  },
  {
   "cell_type": "code",
   "execution_count": 13,
   "metadata": {},
   "outputs": [
    {
     "name": "stdout",
     "output_type": "stream",
     "text": [
      "Value: 5, Type: <class 'int'>\n",
      "Value: 3.14, Type: <class 'float'>\n",
      "Value: 'Hello, World!', Type: <class 'str'>\n",
      "Value: True, Type: <class 'bool'>\n",
      "Value: [1, 2, 3, 'apple'], Type: <class 'list'>\n",
      "Value: (1, 2, 3, 'banana'), Type: <class 'tuple'>\n",
      "Value: {1, 2, 3, 'orange'}, Type: <class 'set'>\n",
      "Value: {'name': 'Alice', 'age': 30}, Type: <class 'dict'>\n",
      "Value: (3+4j), Type: <class 'complex'>\n",
      "Value: None, Type: <class 'NoneType'>\n"
     ]
    }
   ],
   "source": [
    "# Integer\n",
    "integer_value = 5\n",
    "print(f\"Value: {integer_value}, Type: {type(integer_value)}\")\n",
    "\n",
    "# Float\n",
    "float_value = 3.14\n",
    "print(f\"Value: {float_value}, Type: {type(float_value)}\")\n",
    "\n",
    "# String\n",
    "string_value = \"Hello, World!\"\n",
    "print(f\"Value: '{string_value}', Type: {type(string_value)}\")\n",
    "\n",
    "# Boolean\n",
    "boolean_value = True\n",
    "print(f\"Value: {boolean_value}, Type: {type(boolean_value)}\")\n",
    "\n",
    "# List\n",
    "list_value = [1, 2, 3, \"apple\"]\n",
    "print(f\"Value: {list_value}, Type: {type(list_value)}\")\n",
    "\n",
    "# Tuple\n",
    "tuple_value = (1, 2, 3, \"banana\")\n",
    "print(f\"Value: {tuple_value}, Type: {type(tuple_value)}\")\n",
    "\n",
    "# Set\n",
    "set_value = {1, 2, 3, \"orange\"}\n",
    "print(f\"Value: {set_value}, Type: {type(set_value)}\")\n",
    "\n",
    "# Dictionary\n",
    "dict_value = {\"name\": \"Alice\", \"age\": 30}\n",
    "print(f\"Value: {dict_value}, Type: {type(dict_value)}\")\n",
    "\n",
    "# Complex\n",
    "complex_value = 3 + 4j\n",
    "print(f\"Value: {complex_value}, Type: {type(complex_value)}\")\n",
    "\n",
    "# NoneType\n",
    "none_value = None\n",
    "print(f\"Value: {none_value}, Type: {type(none_value)}\")\n"
   ]
  }
 ],
 "metadata": {
  "kernelspec": {
   "display_name": "Python 3",
   "language": "python",
   "name": "python3"
  },
  "language_info": {
   "codemirror_mode": {
    "name": "ipython",
    "version": 3
   },
   "file_extension": ".py",
   "mimetype": "text/x-python",
   "name": "python",
   "nbconvert_exporter": "python",
   "pygments_lexer": "ipython3",
   "version": "3.12.3"
  }
 },
 "nbformat": 4,
 "nbformat_minor": 2
}
